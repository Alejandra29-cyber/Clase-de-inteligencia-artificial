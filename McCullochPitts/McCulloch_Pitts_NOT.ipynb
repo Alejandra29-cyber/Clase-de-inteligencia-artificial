{
  "nbformat": 4,
  "nbformat_minor": 0,
  "metadata": {
    "colab": {
      "provenance": []
    },
    "kernelspec": {
      "name": "python3",
      "display_name": "Python 3"
    },
    "language_info": {
      "name": "python"
    }
  },
  "cells": [
    {
      "cell_type": "code",
      "execution_count": 1,
      "metadata": {
        "colab": {
          "base_uri": "https://localhost:8080/"
        },
        "id": "Tx19ZLdp29FY",
        "outputId": "00f78cb9-dafb-433f-e474-6510f17736c8"
      },
      "outputs": [
        {
          "output_type": "stream",
          "name": "stdout",
          "text": [
            "Tabla de verdad de NOT:\n",
            "Entrada (0) -> Salida: 1\n",
            "Entrada (1) -> Salida: 0\n"
          ]
        }
      ],
      "source": [
        "# Tarea: Implementación de la compuerta NOT con McCulloch-Pitts\n",
        "\n",
        "def compuerta_not(x1):\n",
        "    # Se usa un peso 'inhibitorio' (negativo) para invertir la señal\n",
        "    w1 = -1\n",
        "\n",
        "    # Se define el umbral de activación en cero\n",
        "    theta = 0\n",
        "\n",
        "    # Suma de la entrada multiplicada por su peso\n",
        "    suma = x1 * w1\n",
        "\n",
        "    # Si la suma es igual o mayor al umbral, la neurona se activa\n",
        "    if suma >= theta:\n",
        "        return 1\n",
        "    else:\n",
        "        return 0\n",
        "\n",
        "# --- Pruebas para verificar que funciona ---\n",
        "print(\"Tabla de verdad de NOT:\")\n",
        "print(f\"Entrada (0) -> Salida: {compuerta_not(0)}\") # Debería ser 1\n",
        "print(f\"Entrada (1) -> Salida: {compuerta_not(1)}\") # Debería ser 0"
      ]
    },
    {
      "cell_type": "markdown",
      "source": [
        "Explicación de la Neurona NOT\n",
        "\n",
        "Esta neurona simula una compuerta NOT, que invierte la entrada. La clave es usar un peso inhibitorio (w=-1). Esto hace que una entrada de 1 reste a la suma total. Con un umbral de θ=0, la neurona solo se activa (da 1) cuando la suma es 0 o más, lo cual solo ocurre si la entrada es 0. Si la entrada es 1, la suma es -1 y la neurona no se activa."
      ],
      "metadata": {
        "id": "I5gTxICN3meQ"
      }
    }
  ]
}