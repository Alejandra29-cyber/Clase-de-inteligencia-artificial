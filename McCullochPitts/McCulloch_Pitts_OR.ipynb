{
  "nbformat": 4,
  "nbformat_minor": 0,
  "metadata": {
    "colab": {
      "provenance": []
    },
    "kernelspec": {
      "name": "python3",
      "display_name": "Python 3"
    },
    "language_info": {
      "name": "python"
    }
  },
  "cells": [
    {
      "cell_type": "code",
      "execution_count": 1,
      "metadata": {
        "colab": {
          "base_uri": "https://localhost:8080/"
        },
        "id": "XJLvYO5px5Ei",
        "outputId": "7562dda0-b834-4855-8141-876a0b9958c6"
      },
      "outputs": [
        {
          "output_type": "stream",
          "name": "stdout",
          "text": [
            "Tabla de verdad de OR:\n",
            "Entradas (0, 0) -> Salida: 0\n",
            "Entradas (0, 1) -> Salida: 1\n",
            "Entradas (1, 0) -> Salida: 1\n",
            "Entradas (1, 1) -> Salida: 1\n"
          ]
        }
      ],
      "source": [
        "# Tarea: Implementación de la compuerta OR con McCulloch-Pitts\n",
        "\n",
        "def compuerta_or(x1, x2):\n",
        "    # Pesos excitatorios (positivos) para las entradas\n",
        "    w1 = 1\n",
        "    w2 = 1\n",
        "\n",
        "    # Umbral de activación\n",
        "    theta = 1\n",
        "\n",
        "    # Suma de las entradas multiplicadas por sus pesos\n",
        "    suma = (x1 * w1) + (x2 * w2)\n",
        "\n",
        "    # Si la suma es igual o mayor al umbral, la neurona se activa (output 1)\n",
        "    if suma >= theta:\n",
        "        return 1\n",
        "    else:\n",
        "        return 0\n",
        "\n",
        "# --- Pruebas para verificar que funciona ---\n",
        "print(\"Tabla de verdad de OR:\")\n",
        "print(f\"Entradas (0, 0) -> Salida: {compuerta_or(0, 0)}\")\n",
        "print(f\"Entradas (0, 1) -> Salida: {compuerta_or(0, 1)}\")\n",
        "print(f\"Entradas (1, 0) -> Salida: {compuerta_or(1, 0)}\")\n",
        "print(f\"Entradas (1, 1) -> Salida: {compuerta_or(1, 1)}\")"
      ]
    },
    {
      "cell_type": "markdown",
      "source": [
        "Explicación de la Neurona OR\n",
        "\n",
        "Esta neurona simula una compuerta OR. Usa dos entradas con pesos positivos (w=1) y un umbral de θ=1. La neurona solo se activa y da una salida de 1 si la suma de sus entradas es 1 o más. Esto pasa cuando al menos una de las entradas es 1, cumpliendo así la lógica de la compuerta OR."
      ],
      "metadata": {
        "id": "F2coE0n3z-fG"
      }
    }
  ]
}